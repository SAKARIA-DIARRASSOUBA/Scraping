{
 "cells": [
  {
   "cell_type": "markdown",
   "metadata": {},
   "source": [
    "# Location d'appartements\n",
    "Dans ce projet consiste à scraper les données du site seloger.com\n",
    "\n",
    "On va collecter toutes les annonces de location des appartements à Paris afin de comparer leur prix en fonction de la **superficie, l’arrondissement, l’agence, le nombre de pièces et de chambres**. Sur le site, les résultats de recherche d’appartements à Paris s’affichent sur environ 634 pages. Chaque page regroupe 25 annonces. Voici les adresses des trois premières pages :\n",
    "- https://www.seloger.com/immobilier/locations/immo-paris-75/bien-appartement/?LISTING-LISTpg=1\n",
    "- https://www.seloger.com/immobilier/locations/immo-paris-75/bien-appartement/?LISTING-LISTpg=2\n",
    "- https://www.seloger.com/immobilier/locations/immo-paris-75/bien-appartement/?LISTING-LISTpg=3\n",
    "\n",
    "On a remarqué qu’elles sont quasiment identiques. Afin d’obtenir une liste des 634 pages web à consulter, il suffit juste de modifier le dernier chiffre indiquant le numéro de la page. On peut le faire avec la fonction suivante :"
   ]
  },
  {
   "cell_type": "code",
   "execution_count": 1,
   "metadata": {},
   "outputs": [],
   "source": [
    "url='https://www.seloger.com/immobilier/locations/immo-paris-75bien-appartement/?LISTING-LISTpg='"
   ]
  },
  {
   "cell_type": "code",
   "execution_count": 8,
   "metadata": {},
   "outputs": [],
   "source": [
    "# la fonction get_page donne la liste des pages qu'on souhait scraper\n",
    "def get_page(url,nombre):\n",
    "    pages=[]\n",
    "    for k in range(1,nombre+1):\n",
    "        res=url+str(k)\n",
    "        pages.append(res)\n",
    "    return pages\n",
    "        "
   ]
  },
  {
   "cell_type": "markdown",
   "metadata": {},
   "source": [
    "#### Analyser le code html de la page web en utilisant les bibliothèques\n",
    "\n",
    "La première étape est d’importer les bibliothèques qu'on utilisera pour scraper une page.\n",
    "- le module **get** de la bibliothèque **requests** nous permettra à chaque page\n",
    "- le module **BeautifulSoup** de **bs4** nous aidera à analyser et gérer le html.\n",
    "\n",
    "La prochaine bibliothèque que nous importerons est urllib qui permet d’établir une connexion avec la page web. Aussi, les résultats seront inscrits dans un CSV, ce qui fait que nous avons aussi besoin d’importer la bibliothèque csv. Comme alternative, la bibliothèque json pourrait être utilisée à la place."
   ]
  },
  {
   "cell_type": "code",
   "execution_count": 9,
   "metadata": {},
   "outputs": [],
   "source": [
    "import requests\n",
    "from requests import get\n",
    "from bs4 import BeautifulSoup"
   ]
  },
  {
   "cell_type": "code",
   "execution_count": 10,
   "metadata": {},
   "outputs": [
    {
     "name": "stdout",
     "output_type": "stream",
     "text": [
      "<Response [403]>\n",
      "<Response [403]>\n"
     ]
    }
   ],
   "source": [
    "nombre=2\n",
    "pages=get_page(url,nombre)\n",
    "for tp in pages:\n",
    "    reponse=get(tp)\n",
    "    print(reponse)"
   ]
  },
  {
   "cell_type": "markdown",
   "metadata": {},
   "source": [
    "A chaque itération la fonction **get()** essaie de se connecter à une adresse dans notre liste et enregistre le résultat dans la variable response. Si la tentative est réussie, la variable response contiendra la valeur **<Response [200]>** ainsi que le code source de la page à laquelle on souhaite accéder. Utilisez response.text pour l’afficher."
   ]
  },
  {
   "cell_type": "code",
   "execution_count": null,
   "metadata": {},
   "outputs": [],
   "source": []
  }
 ],
 "metadata": {
  "hide_input": false,
  "kernelspec": {
   "display_name": "Python 3",
   "language": "python",
   "name": "python3"
  },
  "language_info": {
   "codemirror_mode": {
    "name": "ipython",
    "version": 3
   },
   "file_extension": ".py",
   "mimetype": "text/x-python",
   "name": "python",
   "nbconvert_exporter": "python",
   "pygments_lexer": "ipython3",
   "version": "3.7.6"
  }
 },
 "nbformat": 4,
 "nbformat_minor": 4
}
