{
 "cells": [
  {
   "cell_type": "markdown",
   "metadata": {},
   "source": [
    "# Les films Disney+\n",
    "Dans ce projet consiste à scraper les données du site **allociné**\n",
    "\n",
    "Pour la preparation de la cérémonie de recompense, On veut faire des projection de films disney+ au cinema pour les enfants afin de choisir le meilleur film en fonction de la **Date, le critique des spectateur, et l'age autorisé**. Sur le site, les résultats de recherche des films s’affichent sur environ 41 pages. Chaque page regroupe 12 annonces. Voici les adresses des trois premières pages :\n",
    "- https://www.allocine.fr/disney/film/tous/?page=1\n",
    "- https://www.allocine.fr/disney/film/tous/?page=2\n",
    "- https://www.allocine.fr/disney/film/tous/?page=3\n",
    "\n",
    "On a remarqué qu’elles sont quasiment identiques. Afin d’obtenir une liste des 41pages web à consulter, il suffit juste de modifier le dernier chiffre indiquant le numéro de la page. On peut le faire avec la fonction suivante :"
   ]
  },
  {
   "cell_type": "markdown",
   "metadata": {},
   "source": [
    "#### Analyser le code html de la page web en utilisant les bibliothèques\n",
    "\n",
    "La première étape est d’importer les bibliothèques qu'on utilisera pour scraper une page.\n",
    "- le module **get** de la bibliothèque **requests** nous permettra à chaque page\n",
    "- le module **BeautifulSoup** de **bs4** nous aidera à analyser et gérer le html.\n",
    "\n",
    "La prochaine bibliothèque que nous importerons est urllib qui permet d’établir une connexion avec la page web. Aussi, les résultats seront inscrits dans un CSV, ce qui fait que nous avons aussi besoin d’importer la bibliothèque csv. Comme alternative, la bibliothèque json pourrait être utilisée à la place."
   ]
  },
  {
   "cell_type": "code",
   "execution_count": 34,
   "metadata": {},
   "outputs": [],
   "source": [
    "import requests\n",
    "from requests import get\n",
    "from bs4 import BeautifulSoup\n",
    "import csv"
   ]
  },
  {
   "cell_type": "code",
   "execution_count": 44,
   "metadata": {},
   "outputs": [],
   "source": [
    "url='https://www.allocine.fr/disney/film/tous/?page=1'"
   ]
  },
  {
   "cell_type": "code",
   "execution_count": 56,
   "metadata": {},
   "outputs": [
    {
     "name": "stdout",
     "output_type": "stream",
     "text": [
      "<class 'bs4.element.ResultSet'>\n",
      "le nombre de films sur la première page est= 12\n"
     ]
    }
   ],
   "source": [
    "reponse=get(url)\n",
    "parser=BeautifulSoup(reponse.text,'html.parser')\n",
    "films=parser.find_all('li',class_='mdl')\n",
    "print(type(films))\n",
    "print(\"le nombre de films sur la première page est=\",len(films))\n"
   ]
  },
  {
   "cell_type": "markdown",
   "metadata": {},
   "source": [
    "## Scraper les informations du premier film sur Disney+\n",
    "- Le nom du film\n",
    "- La date de sortie\n",
    "- L'age requis pour regarder le film\n",
    "- La critique des spectateurs "
   ]
  },
  {
   "cell_type": "code",
   "execution_count": 115,
   "metadata": {},
   "outputs": [
    {
     "data": {
      "text/plain": [
       "<li class=\"mdl\">\n",
       "<div class=\"card entity-card entity-card-list cf\">\n",
       "<figure class=\"thumbnail\">\n",
       "<span class=\"ACrL3ZACrpZGVvL3BsYXllcl9nZW5fY21lZGlhPTE5NTkwNTI4JmNmaWxtPTI1MTM1NC5odG1s thumbnail-container thumbnail-link\" title=\"Bande-annonce Soul\">\n",
       "<img alt=\"Bande-annonce Soul\" class=\"thumbnail-img\" height=\"420\" src=\"https://fr.web.img4.acsta.net/c_310_420/pictures/20/10/15/11/09/5088324.jpg\" width=\"310\"/>\n",
       "<span class=\"ico-play ico-play-yellow\">\n",
       "<span class=\"ico-play-inner\"></span>\n",
       "<i class=\"ico-play-arrow\">\n",
       "<i class=\"arrow\"></i>\n",
       "</i>\n",
       "</span>\n",
       "</span>\n",
       "</figure>\n",
       "<div class=\"meta\">\n",
       "<h2 class=\"meta-title\">\n",
       "<a class=\"meta-title-link\" href=\"/film/fichefilm_gen_cfilm=251354.html\">Soul</a>\n",
       "</h2>\n",
       "<div class=\"meta-body\">\n",
       "<div class=\"meta-body-item meta-body-info\">\n",
       "<span class=\"date\">25 décembre 2020</span>\n",
       "<span class=\"spacer\">/</span>\n",
       "                    \n",
       "                                                            \n",
       "                                            1h 40min\n",
       "                                        \n",
       "                                            <span class=\"spacer\">/</span>\n",
       "<span class=\"ACrL2ZACrpbG1zL2dlbnJlLTEzMDAxLw==\">Aventure</span>,\n",
       "                                                                                                                            \n",
       "                                                <span class=\"ACrL2ZACrpbG1zL2dlbnJlLTEzMDI2Lw==\">Animation</span>,\n",
       "                                                                                                                            \n",
       "                                                <span class=\"ACrL2ZACrpbG1zL2dlbnJlLTEzMDM2Lw==\">Famille</span>\n",
       "</div>\n",
       "<div class=\"meta-body-item meta-body-direction\">\n",
       "<span class=\"light\">De</span>\n",
       "<span class=\"ACrL3BACrlcnNvbm5lL2ZpY2hlcGVyc29ubmVfZ2VuX2NwZXJzb25uZT04NDc4MzIuaHRtbA== blue-link\">Kemp Powers</span>,\n",
       "                                                                                                \n",
       "                                                                                    <span class=\"ACrL3BACrlcnNvbm5lL2ZpY2hlcGVyc29ubmVfZ2VuX2NwZXJzb25uZT0zNTAyMC5odG1s blue-link\">Pete Docter</span>\n",
       "</div>\n",
       "<div class=\"meta-body-item meta-body-actor\">\n",
       "<span class=\"light\">Avec</span>\n",
       "<span class=\"ACrL3BACrlcnNvbm5lL2ZpY2hlcGVyc29ubmVfZ2VuX2NwZXJzb25uZT04NzEyNy5odG1s\">Omar Sy</span>,\n",
       "                \n",
       "                                                                                                                                                            \n",
       "                                                                                    <span class=\"ACrL3BACrlcnNvbm5lL2ZpY2hlcGVyc29ubmVfZ2VuX2NwZXJzb25uZT0zMjQwNC5odG1s\">Jamie Foxx</span>,\n",
       "                \n",
       "                                                                                                                                                            \n",
       "                                                                                    <span class=\"ACrL3BACrlcnNvbm5lL2ZpY2hlcGVyc29ubmVfZ2VuX2NwZXJzb25uZT0yNDA4NjguaHRtbA==\">Camille Cottin</span>\n",
       "</div>\n",
       "</div>\n",
       "</div>\n",
       "<div class=\"label-holder\">\n",
       "<div class=\"label kids-label aged-default\">à partir de 6 ans</div>\n",
       "</div>\n",
       "<div class=\"synopsis\">\n",
       "<div class=\"content-txt\">\n",
       "                      Au moment où Joe pense que son rêve est désormais à portée de main, un pas malencontreux l’expédie dans un endroit fantastique où il est obligé de réfléchir à nouveau à la signification d’avoir une âme. C’est là qu’il se lie d’amitié avec 22, une âme qui ne pense pas que la vie sur Terre soit aussi bien que ce qu’on veut bien lui faire croire...\n",
       "        \n",
       "            </div>\n",
       "</div>\n",
       "<div class=\"buttons-holder\">\n",
       "<button class=\"button button-sm button-disney-full js-svod-affiliation\" data-entity-id=\"251354\" data-entity-type=\"Movie\" data-ga='{\"hitType\":\"event\",\"eventCategory\":\"op-disneyplus\",\"eventLabel\":\"see_on_provider_button\",\"dimension82\":\"251354-soul\",\"dimension10\":\"svod_provider_list_all_movie\"}' data-ga-non-interaction=\"1\" data-ga-trigger=\"clic\" data-provider=\"disney\" data-unique-url-type=\"url_btn_list\">\n",
       "<span class=\"txt\">Voir sur Disney<span class=\"disney-plus\">+</span></span>\n",
       "</button>\n",
       "</div>\n",
       "<div class=\"rating-holder rating-holder-3\">\n",
       "<div class=\"rating-item\">\n",
       "<div class=\"rating-item-content\">\n",
       "<span class=\"ACrL2ZACrpbG0vZmljaGVmaWxtLTI1MTM1NC9jcml0aXF1ZXMvcHJlc3NlLw== rating-title\"> Presse </span>\n",
       "<div class=\"stareval stareval-medium stareval-theme-default\"><div class=\"rating-mdl n40 stareval-stars\"><div class=\"star icon\"></div><div class=\"star icon\"></div><div class=\"star icon\"></div><div class=\"star icon\"></div><div class=\"star icon\"></div></div><span class=\"stareval-note\">4,2</span></div>\n",
       "</div>\n",
       "</div>\n",
       "<div class=\"rating-item\">\n",
       "<div class=\"rating-item-content\">\n",
       "<span class=\"ACrL2ZACrpbG0vZmljaGVmaWxtLTI1MTM1NC9jcml0aXF1ZXMvc3BlY3RhdGV1cnMv rating-title\"> Spectateurs </span>\n",
       "<div class=\"stareval stareval-medium stareval-theme-default\"><div class=\"rating-mdl n45 stareval-stars\"><div class=\"star icon\"></div><div class=\"star icon\"></div><div class=\"star icon\"></div><div class=\"star icon\"></div><div class=\"star icon\"></div></div><span class=\"stareval-note\">4,3</span></div>\n",
       "</div>\n",
       "</div>\n",
       "<div class=\"rating-item\">\n",
       "<div class=\"rating-item-content js-user-friends-rating\" data-entity-id=\"TW92aWU6MjUxMzU0\" data-size=\"medium\" data-title=\"Mes amis \">\n",
       "<a class=\"rating-title\" href=\"#\">Mes amis </a>\n",
       "<div class=\"stareval stareval-medium stareval-theme-default\"><div class=\"rating-mdl n00 stareval-stars\"><div class=\"star icon\"></div><div class=\"star icon\"></div><div class=\"star icon\"></div><div class=\"star icon\"></div><div class=\"star icon\"></div></div><span class=\"stareval-note no-rating\">--</span></div>\n",
       "</div>\n",
       "</div>\n",
       "</div>\n",
       "<div class=\"bam-container\"><div class=\"bam-cell bam-rating-user\"><span class=\"user-rating-title\">noter :</span><div class=\"js-user-rating\" data-entity-id=\"TW92aWU6MjUxMzU0\" data-show-suggestion=\"true\" data-size=\"large\" data-social-action-placement=\"actions_section\" data-title=\"\"><span class=\"user-rating stareval user-rating-large\"><div class=\"rating-star tooltip-parent\"><span class=\"tooltip tooltip-dark tooltip-child\">0.5</span></div><div class=\"rating-star tooltip-parent\"><span class=\"tooltip tooltip-dark tooltip-child\">1</span></div><div class=\"rating-star tooltip-parent\"><span class=\"tooltip tooltip-dark tooltip-child\">1.5</span></div><div class=\"rating-star tooltip-parent\"><span class=\"tooltip tooltip-dark tooltip-child\">2</span></div><div class=\"rating-star tooltip-parent\"><span class=\"tooltip tooltip-dark tooltip-child\">2.5</span></div><div class=\"rating-star tooltip-parent\"><span class=\"tooltip tooltip-dark tooltip-child\">3</span></div><div class=\"rating-star tooltip-parent\"><span class=\"tooltip tooltip-dark tooltip-child\">3.5</span></div><div class=\"rating-star tooltip-parent\"><span class=\"tooltip tooltip-dark tooltip-child\">4</span></div><div class=\"rating-star tooltip-parent\"><span class=\"tooltip tooltip-dark tooltip-child\">4.5</span></div><div class=\"rating-star tooltip-parent\"><span class=\"tooltip tooltip-dark tooltip-child\">5</span></div></span></div></div><div class=\"bam-cell bam-want-to-see js-user-want-to-see\" data-classes=\"button icon icon-wish-full\" data-content=\"Envie de voir\" data-entity-id=\"TW92aWU6MjUxMzU0\" data-social-action-placement=\"actions_section\"><span class=\"button icon icon-wish-full\">Envie de voir</span></div></div>\n",
       "</div>\n",
       "</li>"
      ]
     },
     "execution_count": 115,
     "metadata": {},
     "output_type": "execute_result"
    }
   ],
   "source": [
    "first_movie=films[0]\n",
    "first_movie"
   ]
  },
  {
   "cell_type": "code",
   "execution_count": 154,
   "metadata": {},
   "outputs": [
    {
     "data": {
      "text/plain": [
       "'Soul'"
      ]
     },
     "execution_count": 154,
     "metadata": {},
     "output_type": "execute_result"
    }
   ],
   "source": [
    "titre=first_movie.a\n",
    "titre.text"
   ]
  },
  {
   "cell_type": "code",
   "execution_count": 62,
   "metadata": {},
   "outputs": [
    {
     "data": {
      "text/plain": [
       "'25 décembre 2020'"
      ]
     },
     "execution_count": 62,
     "metadata": {},
     "output_type": "execute_result"
    }
   ],
   "source": [
    "date=first_movie.find(\"span\", class_=\"date\")\n",
    "date.text"
   ]
  },
  {
   "cell_type": "code",
   "execution_count": 99,
   "metadata": {},
   "outputs": [
    {
     "data": {
      "text/plain": [
       "'à partir de 6 ans'"
      ]
     },
     "execution_count": 99,
     "metadata": {},
     "output_type": "execute_result"
    }
   ],
   "source": [
    "age=first_movie.find(\"div\",class_=\"label kids-label aged-default\")\n",
    "age.text"
   ]
  },
  {
   "cell_type": "code",
   "execution_count": 149,
   "metadata": {},
   "outputs": [
    {
     "data": {
      "text/plain": [
       "'4,2'"
      ]
     },
     "execution_count": 149,
     "metadata": {},
     "output_type": "execute_result"
    }
   ],
   "source": [
    "spectateur=first_movie.find(\"span\",class_=\"stareval-note\")\n",
    "spectateur.text"
   ]
  },
  {
   "cell_type": "code",
   "execution_count": 113,
   "metadata": {},
   "outputs": [
    {
     "data": {
      "text/plain": [
       "bs4.element.Tag"
      ]
     },
     "execution_count": 113,
     "metadata": {},
     "output_type": "execute_result"
    }
   ],
   "source": [
    "titre=films[10].find(\"a\",class_=\"meta-title-link\")\n",
    "type(titre)"
   ]
  },
  {
   "cell_type": "code",
   "execution_count": 112,
   "metadata": {},
   "outputs": [
    {
     "data": {
      "text/plain": [
       "NoneType"
      ]
     },
     "execution_count": 112,
     "metadata": {},
     "output_type": "execute_result"
    }
   ],
   "source": [
    "age=films[10].find(\"div\",class_=\"label kids-label aged-default\")\n",
    "type(age)"
   ]
  },
  {
   "cell_type": "markdown",
   "metadata": {},
   "source": [
    "## scraper les films Desney+ pour une page\n",
    "Pour la première page on 12 films, nous allons recuperer les films conditionner par une l'age autorisé pour regarder ce film "
   ]
  },
  {
   "cell_type": "code",
   "execution_count": 164,
   "metadata": {},
   "outputs": [],
   "source": [
    "import pandas as pd"
   ]
  },
  {
   "cell_type": "code",
   "execution_count": 163,
   "metadata": {},
   "outputs": [],
   "source": [
    "Noms=[]\n",
    "Dates=[]\n",
    "Age=[]\n",
    "Spectateur=[]\n",
    "for film in films:\n",
    "    condition=film.find(\"div\",class_=\"label kids-label aged-default\")\n",
    "    if condition is not None:\n",
    "        \n",
    "        nom=film.a.text\n",
    "        Noms.append(nom)\n",
    "        date=film.find(\"span\", class_=\"date\").text\n",
    "        Dates.append(date)\n",
    "        spect=film.find(\"span\",class_=\"stareval-note\").text\n",
    "        Spectateur.append(spect)\n",
    "        age=film.find(\"div\",class_=\"label kids-label aged-default\").text\n",
    "        Age.append(age)\n",
    "\n"
   ]
  },
  {
   "cell_type": "code",
   "execution_count": 165,
   "metadata": {},
   "outputs": [
    {
     "data": {
      "text/html": [
       "<div>\n",
       "<style scoped>\n",
       "    .dataframe tbody tr th:only-of-type {\n",
       "        vertical-align: middle;\n",
       "    }\n",
       "\n",
       "    .dataframe tbody tr th {\n",
       "        vertical-align: top;\n",
       "    }\n",
       "\n",
       "    .dataframe thead th {\n",
       "        text-align: right;\n",
       "    }\n",
       "</style>\n",
       "<table border=\"1\" class=\"dataframe\">\n",
       "  <thead>\n",
       "    <tr style=\"text-align: right;\">\n",
       "      <th></th>\n",
       "      <th>Names</th>\n",
       "      <th>Dates</th>\n",
       "      <th>Age</th>\n",
       "      <th>Spectateur</th>\n",
       "    </tr>\n",
       "  </thead>\n",
       "  <tbody>\n",
       "    <tr>\n",
       "      <th>0</th>\n",
       "      <td>Soul</td>\n",
       "      <td>25 décembre 2020</td>\n",
       "      <td>à partir de 6 ans</td>\n",
       "      <td>4,2</td>\n",
       "    </tr>\n",
       "    <tr>\n",
       "      <th>1</th>\n",
       "      <td>Mulan</td>\n",
       "      <td>30 novembre 2020</td>\n",
       "      <td>à partir de 10 ans</td>\n",
       "      <td>2,6</td>\n",
       "    </tr>\n",
       "    <tr>\n",
       "      <th>2</th>\n",
       "      <td>Maman, j'ai raté l'avion</td>\n",
       "      <td>19 décembre 1990</td>\n",
       "      <td>à partir de 8 ans</td>\n",
       "      <td>3,5</td>\n",
       "    </tr>\n",
       "    <tr>\n",
       "      <th>3</th>\n",
       "      <td>Zootopie</td>\n",
       "      <td>17 février 2016</td>\n",
       "      <td>à partir de 6 ans</td>\n",
       "      <td>4,0</td>\n",
       "    </tr>\n",
       "    <tr>\n",
       "      <th>4</th>\n",
       "      <td>Le Retour de Mary Poppins</td>\n",
       "      <td>19 décembre 2018</td>\n",
       "      <td>à partir de 8 ans</td>\n",
       "      <td>3,3</td>\n",
       "    </tr>\n",
       "    <tr>\n",
       "      <th>5</th>\n",
       "      <td>Peter et Elliott le dragon</td>\n",
       "      <td>17 août 2016</td>\n",
       "      <td>à partir de 8 ans</td>\n",
       "      <td>3,3</td>\n",
       "    </tr>\n",
       "    <tr>\n",
       "      <th>6</th>\n",
       "      <td>Coco</td>\n",
       "      <td>15 novembre 2017</td>\n",
       "      <td>à partir de 8 ans</td>\n",
       "      <td>4,1</td>\n",
       "    </tr>\n",
       "    <tr>\n",
       "      <th>7</th>\n",
       "      <td>Vice Versa</td>\n",
       "      <td>17 juin 2015</td>\n",
       "      <td>à partir de 6 ans</td>\n",
       "      <td>4,7</td>\n",
       "    </tr>\n",
       "    <tr>\n",
       "      <th>8</th>\n",
       "      <td>Star Wars : Episode I - La Menace fantôme</td>\n",
       "      <td>13 octobre 1999</td>\n",
       "      <td>à partir de 8 ans</td>\n",
       "      <td>3,1</td>\n",
       "    </tr>\n",
       "    <tr>\n",
       "      <th>9</th>\n",
       "      <td>La Belle et la Bête</td>\n",
       "      <td>22 mars 2017</td>\n",
       "      <td>à partir de 8 ans</td>\n",
       "      <td>3,1</td>\n",
       "    </tr>\n",
       "  </tbody>\n",
       "</table>\n",
       "</div>"
      ],
      "text/plain": [
       "                                       Names             Dates  \\\n",
       "0                                       Soul  25 décembre 2020   \n",
       "1                                      Mulan  30 novembre 2020   \n",
       "2                   Maman, j'ai raté l'avion  19 décembre 1990   \n",
       "3                                   Zootopie   17 février 2016   \n",
       "4                  Le Retour de Mary Poppins  19 décembre 2018   \n",
       "5                 Peter et Elliott le dragon      17 août 2016   \n",
       "6                                       Coco  15 novembre 2017   \n",
       "7                                 Vice Versa      17 juin 2015   \n",
       "8  Star Wars : Episode I - La Menace fantôme   13 octobre 1999   \n",
       "9                        La Belle et la Bête      22 mars 2017   \n",
       "\n",
       "                  Age Spectateur  \n",
       "0   à partir de 6 ans        4,2  \n",
       "1  à partir de 10 ans        2,6  \n",
       "2   à partir de 8 ans        3,5  \n",
       "3   à partir de 6 ans        4,0  \n",
       "4   à partir de 8 ans        3,3  \n",
       "5   à partir de 8 ans        3,3  \n",
       "6   à partir de 8 ans        4,1  \n",
       "7   à partir de 6 ans        4,7  \n",
       "8   à partir de 8 ans        3,1  \n",
       "9   à partir de 8 ans        3,1  "
      ]
     },
     "execution_count": 165,
     "metadata": {},
     "output_type": "execute_result"
    }
   ],
   "source": [
    "tableau=pd.DataFrame({\"Names\":Noms,\n",
    "                     \"Dates\":Dates,\n",
    "                     \"Age\":Age,\n",
    "                     \"Spectateur\":Spectateur})\n",
    "tableau"
   ]
  },
  {
   "cell_type": "markdown",
   "metadata": {},
   "source": [
    "## Controler le taux de requetes envoyées\n",
    "\n",
    "pourquoi besoin de controler le taux de requetes envoyées?\n",
    "- en web sraping, le risque c'est d'envoyer un trop grand nombres par seconde et que notre IP soit banni\n",
    "- l'autre risque est de perturber l'utilité du serveur et donc du site web\n",
    "\n",
    "Donc pour controler ce taux de requetes on utilise la fonction sleep du module time qui va mettre en pause l'execution de notre boucle pour un certain temps"
   ]
  },
  {
   "cell_type": "code",
   "execution_count": 185,
   "metadata": {},
   "outputs": [
    {
     "name": "stdout",
     "output_type": "stream",
     "text": [
      "requests: 10; frequence : 0.5242520297576082 requests/s\n"
     ]
    }
   ],
   "source": [
    "from time import sleep\n",
    "from random import randint\n",
    "from time import time\n",
    "from IPython.display import clear_output# pour afficher la requete en cours\n",
    "start=time()# temps du début\n",
    "requests=0 # la variable requests va compter le nbre de requetes\n",
    "for k in range(10):\n",
    "    requests+=1 # on increment la variable requests à chaque passage\n",
    "    sleep(randint(1,3)) # on fait une pause de 1 à 3 secondes\n",
    "    end=time()-start # temps écoule pour une requete\n",
    "    print(\"requests: {}; frequence : {} requests/s\".format(requests,requests/end))  \n",
    "    clear_output(wait=True)"
   ]
  },
  {
   "cell_type": "code",
   "execution_count": 167,
   "metadata": {},
   "outputs": [],
   "source": [
    "urlpage='https://www.allocine.fr/disney/film/tous/?page='"
   ]
  },
  {
   "cell_type": "code",
   "execution_count": 168,
   "metadata": {},
   "outputs": [],
   "source": [
    "# la fonction get_page donne la liste des pages qu'on souhait scraper\n",
    "def get_page(urlpage,nombre):\n",
    "    pages=[]\n",
    "    for k in range(1,nombre+1):\n",
    "        res=urlpage+str(k)\n",
    "        pages.append(res)\n",
    "    return pages\n",
    "        "
   ]
  },
  {
   "cell_type": "code",
   "execution_count": 193,
   "metadata": {},
   "outputs": [
    {
     "name": "stdout",
     "output_type": "stream",
     "text": [
      "requests:30 ; frequence:0.09463791810298744 requete/s\n"
     ]
    }
   ],
   "source": [
    "# 1)déclaration des listes vides\n",
    "nombre=30\n",
    "pages=get_page(urlpage,nombre)\n",
    "Names=[]\n",
    "Dates=[]\n",
    "Scores=[]\n",
    "Ages=[]\n",
    "# 2) preparer l'ecran l'affichage des boucle\n",
    "start=time()\n",
    "requests=0\n",
    "\n",
    "# 3) pour chaque page entre 1 et 5\n",
    "for page in pages:\n",
    "\n",
    "    # 4) la requete get()\n",
    "    reponse=get(page)\n",
    "\n",
    "    # 5) pouser la boucle de 8 à 15 secondes\n",
    "    sleep(randint(8,12))\n",
    "\n",
    "    # 7) afficher le temps de requete\n",
    "    requests+=1 # on increment la variable requests à chaque passage\n",
    "    end_url=time()-start\n",
    "    print(\"requests:{} ; frequence:{} requete/s\".format(requests,requests/end_url))\n",
    "    clear_output(wait=True)\n",
    "\n",
    "    # 8) ajouter un avertisement si le code status different de 200\n",
    "    if reponse.status_code!=200:\n",
    "        warn('request:{}; status code:{}'.format(requests,reponse.status_code))\n",
    "\n",
    "    # 9) verifier la condition d'arret\n",
    "    if requests >50:\n",
    "        warn(\"Nombres de requetes trop important\")\n",
    "        break\n",
    "    # 10) Convertir le contenu HTML response en un objet BeautifulSoup\n",
    "    page_html=BeautifulSoup(reponse.text,'html.parser')\n",
    "\n",
    "    # 11) selectionner les 50 films de chaque page (containers)\n",
    "    movies=page_html.find_all('li',class_='mdl')\n",
    "\n",
    "    # 12) une boucle qui parcourt tout les containers\n",
    "    for film in movies:\n",
    "\n",
    "        # verifions si le film a un metascore\n",
    "        condition=film.find(\"div\",class_=\"label kids-label aged-default\")    \n",
    "        if condition is not None:\n",
    "            # scraper le score du film\n",
    "            score=film.find(\"span\",class_=\"stareval-note\").text\n",
    "            Scores.append(score)\n",
    "\n",
    "            # scraper le nom du film\n",
    "            nom=film.a.text\n",
    "            Names.append(nom)\n",
    "\n",
    "            #scraper la date de sortie du film\n",
    "            date=film.find(\"span\", class_=\"date\").text\n",
    "            Dates.append(date)\n",
    "\n",
    "            # scraper l'age autoriser\n",
    "            age=film.find(\"div\",class_=\"label kids-label aged-default\").text\n",
    "            Ages.append(age)\n",
    "           \n",
    "\n"
   ]
  },
  {
   "cell_type": "code",
   "execution_count": 194,
   "metadata": {},
   "outputs": [],
   "source": [
    "movies_all=pd.DataFrame({\"Film\":Names,\n",
    "                            \"Dates\":Dates,\n",
    "                            \"Ages\":Ages,\n",
    "                            \"Scores\":Scores,\n",
    "                        })"
   ]
  },
  {
   "cell_type": "code",
   "execution_count": 195,
   "metadata": {},
   "outputs": [
    {
     "name": "stdout",
     "output_type": "stream",
     "text": [
      "<class 'pandas.core.frame.DataFrame'>\n",
      "RangeIndex: 258 entries, 0 to 257\n",
      "Data columns (total 4 columns):\n",
      " #   Column  Non-Null Count  Dtype \n",
      "---  ------  --------------  ----- \n",
      " 0   Film    258 non-null    object\n",
      " 1   Dates   258 non-null    object\n",
      " 2   Ages    258 non-null    object\n",
      " 3   Scores  258 non-null    object\n",
      "dtypes: object(4)\n",
      "memory usage: 8.2+ KB\n",
      "None\n"
     ]
    }
   ],
   "source": [
    "print(movies_all.info())"
   ]
  },
  {
   "cell_type": "code",
   "execution_count": 196,
   "metadata": {},
   "outputs": [
    {
     "data": {
      "text/html": [
       "<div>\n",
       "<style scoped>\n",
       "    .dataframe tbody tr th:only-of-type {\n",
       "        vertical-align: middle;\n",
       "    }\n",
       "\n",
       "    .dataframe tbody tr th {\n",
       "        vertical-align: top;\n",
       "    }\n",
       "\n",
       "    .dataframe thead th {\n",
       "        text-align: right;\n",
       "    }\n",
       "</style>\n",
       "<table border=\"1\" class=\"dataframe\">\n",
       "  <thead>\n",
       "    <tr style=\"text-align: right;\">\n",
       "      <th></th>\n",
       "      <th>Film</th>\n",
       "      <th>Dates</th>\n",
       "      <th>Ages</th>\n",
       "      <th>Scores</th>\n",
       "    </tr>\n",
       "  </thead>\n",
       "  <tbody>\n",
       "    <tr>\n",
       "      <th>0</th>\n",
       "      <td>Soul</td>\n",
       "      <td>25 décembre 2020</td>\n",
       "      <td>à partir de 6 ans</td>\n",
       "      <td>4,2</td>\n",
       "    </tr>\n",
       "    <tr>\n",
       "      <th>1</th>\n",
       "      <td>Mulan</td>\n",
       "      <td>30 novembre 2020</td>\n",
       "      <td>à partir de 10 ans</td>\n",
       "      <td>2,6</td>\n",
       "    </tr>\n",
       "    <tr>\n",
       "      <th>2</th>\n",
       "      <td>Maman, j'ai raté l'avion</td>\n",
       "      <td>19 décembre 1990</td>\n",
       "      <td>à partir de 8 ans</td>\n",
       "      <td>3,5</td>\n",
       "    </tr>\n",
       "    <tr>\n",
       "      <th>3</th>\n",
       "      <td>Zootopie</td>\n",
       "      <td>17 février 2016</td>\n",
       "      <td>à partir de 6 ans</td>\n",
       "      <td>4,0</td>\n",
       "    </tr>\n",
       "    <tr>\n",
       "      <th>4</th>\n",
       "      <td>Le Retour de Mary Poppins</td>\n",
       "      <td>19 décembre 2018</td>\n",
       "      <td>à partir de 8 ans</td>\n",
       "      <td>3,3</td>\n",
       "    </tr>\n",
       "    <tr>\n",
       "      <th>...</th>\n",
       "      <td>...</td>\n",
       "      <td>...</td>\n",
       "      <td>...</td>\n",
       "      <td>...</td>\n",
       "    </tr>\n",
       "    <tr>\n",
       "      <th>253</th>\n",
       "      <td>Le Sortilège de Cendrillon (V)</td>\n",
       "      <td>26 septembre 2012</td>\n",
       "      <td>à partir de 6 ans</td>\n",
       "      <td>2,9</td>\n",
       "    </tr>\n",
       "    <tr>\n",
       "      <th>254</th>\n",
       "      <td>Le Chihuahua de Beverly Hills</td>\n",
       "      <td>25 mars 2009</td>\n",
       "      <td>à partir de 8 ans</td>\n",
       "      <td>1,8</td>\n",
       "    </tr>\n",
       "    <tr>\n",
       "      <th>255</th>\n",
       "      <td>Les Muppets, le retour</td>\n",
       "      <td>11 avril 2012</td>\n",
       "      <td>à partir de 8 ans</td>\n",
       "      <td>3,5</td>\n",
       "    </tr>\n",
       "    <tr>\n",
       "      <th>256</th>\n",
       "      <td>Clochette et la pierre de lune</td>\n",
       "      <td>28 octobre 2009</td>\n",
       "      <td>à partir de 6 ans</td>\n",
       "      <td>3,7</td>\n",
       "    </tr>\n",
       "    <tr>\n",
       "      <th>257</th>\n",
       "      <td>Underdog, chien volant non identifié</td>\n",
       "      <td>22 mars 2012</td>\n",
       "      <td>à partir de 8 ans</td>\n",
       "      <td>2,7</td>\n",
       "    </tr>\n",
       "  </tbody>\n",
       "</table>\n",
       "<p>258 rows × 4 columns</p>\n",
       "</div>"
      ],
      "text/plain": [
       "                                     Film              Dates  \\\n",
       "0                                    Soul   25 décembre 2020   \n",
       "1                                   Mulan   30 novembre 2020   \n",
       "2                Maman, j'ai raté l'avion   19 décembre 1990   \n",
       "3                                Zootopie    17 février 2016   \n",
       "4               Le Retour de Mary Poppins   19 décembre 2018   \n",
       "..                                    ...                ...   \n",
       "253        Le Sortilège de Cendrillon (V)  26 septembre 2012   \n",
       "254         Le Chihuahua de Beverly Hills       25 mars 2009   \n",
       "255                Les Muppets, le retour      11 avril 2012   \n",
       "256        Clochette et la pierre de lune    28 octobre 2009   \n",
       "257  Underdog, chien volant non identifié       22 mars 2012   \n",
       "\n",
       "                   Ages Scores  \n",
       "0     à partir de 6 ans    4,2  \n",
       "1    à partir de 10 ans    2,6  \n",
       "2     à partir de 8 ans    3,5  \n",
       "3     à partir de 6 ans    4,0  \n",
       "4     à partir de 8 ans    3,3  \n",
       "..                  ...    ...  \n",
       "253   à partir de 6 ans    2,9  \n",
       "254   à partir de 8 ans    1,8  \n",
       "255   à partir de 8 ans    3,5  \n",
       "256   à partir de 6 ans    3,7  \n",
       "257   à partir de 8 ans    2,7  \n",
       "\n",
       "[258 rows x 4 columns]"
      ]
     },
     "execution_count": 196,
     "metadata": {},
     "output_type": "execute_result"
    }
   ],
   "source": [
    "movies_all"
   ]
  },
  {
   "cell_type": "code",
   "execution_count": 197,
   "metadata": {},
   "outputs": [],
   "source": [
    "movies_all.to_csv('Films_Disney+')# creation d'un fichier csv"
   ]
  },
  {
   "cell_type": "code",
   "execution_count": null,
   "metadata": {},
   "outputs": [],
   "source": []
  }
 ],
 "metadata": {
  "hide_input": false,
  "kernelspec": {
   "display_name": "Python 3",
   "language": "python",
   "name": "python3"
  },
  "language_info": {
   "codemirror_mode": {
    "name": "ipython",
    "version": 3
   },
   "file_extension": ".py",
   "mimetype": "text/x-python",
   "name": "python",
   "nbconvert_exporter": "python",
   "pygments_lexer": "ipython3",
   "version": "3.7.6"
  }
 },
 "nbformat": 4,
 "nbformat_minor": 4
}
