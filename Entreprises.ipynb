{
 "cells": [
  {
   "cell_type": "markdown",
   "metadata": {},
   "source": [
    "# Classement des meilleurs entreprises françaises\n",
    "\n",
    "\n",
    "Dans ce notebook, je vais expliquer la façon de scraper un site web pour recueillir des données sur les **20 meilleures entreprises Françaises en 2019**. L’automatisation de ce processus à l’aide d’un web scraper permet d’éviter la collecte manuelle de données, de gagner du temps et de regrouper toutes les informations sur les entreprises dans un seul fichier structuré."
   ]
  },
  {
   "cell_type": "markdown",
   "metadata": {},
   "source": [
    "Après l'inpection de la page, tous les 20 résultats sont contenus à l’intérieur de lignes dans des éléments < tr> et ils sont tous visibles sur la même page. \n",
    "\n",
    "le lien de la page web est:https://fr.wikipedia.org/wiki/Classement_des_plus_grandes_entreprises_fran%C3%A7aises_en_2018\n",
    "\n",
    "un tableau contenant 20 résultats est affiché. Lors de l’inspection de la page, il est facile de voir un schéma se répéter dans le html. Les résultats sont présentés sous forme de lignes dans le tableau :< table class=\"wikitable sortable jquery-tablesorter\">\n",
    "\n",
    "Les lignes < tr> répétées nous permettront de nous servir d’un code de base en utilisant une boucle dans python pour trouver les données et les inscrire dans un fichier !\n",
    "\n"
   ]
  },
  {
   "cell_type": "markdown",
   "metadata": {},
   "source": [
    "#### Analyser le code html de la page web en utilisant Beautiful Soup\n",
    "\n",
    "La première étape est d’importer les bibliothèques qu'on utilisera pour scraper la page. le module **BeautifulSoup** ci-dessus qui nous aide à analyser et gérer le html. La prochaine bibliothèque que nous importerons est urllib qui permet d’établir une connexion avec la page web. Aussi, les résultats seront inscrits dans un CSV, ce qui fait que nous avons aussi besoin d’importer la bibliothèque csv. Comme alternative, la bibliothèque json pourrait être utilisée à la place."
   ]
  },
  {
   "cell_type": "code",
   "execution_count": 23,
   "metadata": {},
   "outputs": [],
   "source": [
    "import requests\n",
    "from requests import get\n",
    "import urllib.request \n",
    "#from urllib import urlopen\n",
    "from bs4 import BeautifulSoup\n",
    "import csv"
   ]
  },
  {
   "cell_type": "code",
   "execution_count": 44,
   "metadata": {},
   "outputs": [],
   "source": [
    "url=\"https://fr.wikipedia.org/wiki/Classement_des_plus_grandes_entreprises_fran%C3%A7aises_en_2017\""
   ]
  },
  {
   "cell_type": "code",
   "execution_count": 45,
   "metadata": {},
   "outputs": [
    {
     "name": "stdout",
     "output_type": "stream",
     "text": [
      "<Response [200]>\n"
     ]
    }
   ],
   "source": [
    "reponse= get(url)\n",
    "\n",
    "soup=BeautifulSoup(reponse.text,'html.parser')\n",
    "print(reponse)\n"
   ]
  },
  {
   "cell_type": "markdown",
   "metadata": {},
   "source": [
    "**Response 200** indique qu'on a bien trouver le url et que le serveur retourne le resultat\n",
    "\n"
   ]
  },
  {
   "cell_type": "markdown",
   "metadata": {},
   "source": [
    "### Recherche d’éléments HTML\n",
    "Comme tous les résultats sont contenus dans une table, nous pouvons rechercher l’objet soup de la table en utilisant la méthode **find**. Nous pouvons alors trouver chaque ligne à l’intérieur de la table en utilisant la méthode **find_all**."
   ]
  },
  {
   "cell_type": "code",
   "execution_count": 75,
   "metadata": {},
   "outputs": [
    {
     "name": "stdout",
     "output_type": "stream",
     "text": [
      "Number of results 18\n"
     ]
    }
   ],
   "source": [
    "page = urllib.request.urlopen(url)\n",
    "parser=BeautifulSoup(page,'html.parser')\n",
    "table = soup.find('table', attrs={'class': 'wikitable sortable jquery-tablesorter'})\n",
    "\n",
    "results = parser.find('tr')\n",
    "print('Number of results', len(results))"
   ]
  },
  {
   "cell_type": "code",
   "execution_count": 76,
   "metadata": {},
   "outputs": [
    {
     "data": {
      "text/plain": [
       "<tr>\n",
       "<th scope=\"col\">Rang\n",
       "</th>\n",
       "<th scope=\"col\">Nom\n",
       "</th>\n",
       "<th scope=\"col\">Siège social\n",
       "</th>\n",
       "<th scope=\"col\">Chiffre d'affaires<br/>(millions $)\n",
       "</th>\n",
       "<th scope=\"col\">Bénéfice<br/>(millions $)\n",
       "</th>\n",
       "<th scope=\"col\">Employés\n",
       "</th>\n",
       "<th scope=\"col\">Branche\n",
       "</th>\n",
       "<th scope=\"col\">Dirigeant\n",
       "</th>\n",
       "<th scope=\"col\"><a href=\"/wiki/Fortune_Global_500_(2017)\" title=\"Fortune Global 500 (2017)\">Classement<br/>mondial</a>\n",
       "</th></tr>"
      ]
     },
     "execution_count": 76,
     "metadata": {},
     "output_type": "execute_result"
    }
   ],
   "source": [
    "results"
   ]
  },
  {
   "cell_type": "code",
   "execution_count": 74,
   "metadata": {},
   "outputs": [
    {
     "ename": "AttributeError",
     "evalue": "ResultSet object has no attribute 'find'. You're probably treating a list of elements like a single element. Did you call find_all() when you meant to call find()?",
     "output_type": "error",
     "traceback": [
      "\u001b[0;31m---------------------------------------------------------------------------\u001b[0m",
      "\u001b[0;31mAttributeError\u001b[0m                            Traceback (most recent call last)",
      "\u001b[0;32m<ipython-input-74-48478dcf774d>\u001b[0m in \u001b[0;36m<module>\u001b[0;34m\u001b[0m\n\u001b[0;32m----> 1\u001b[0;31m \u001b[0mrang\u001b[0m\u001b[0;34m=\u001b[0m\u001b[0mresults\u001b[0m\u001b[0;34m.\u001b[0m\u001b[0mfind\u001b[0m\u001b[0;34m(\u001b[0m\u001b[0;34m'th'\u001b[0m\u001b[0;34m,\u001b[0m\u001b[0mattrs\u001b[0m\u001b[0;34m=\u001b[0m\u001b[0;34m{\u001b[0m\u001b[0;34m\"scope\"\u001b[0m\u001b[0;34m:\u001b[0m\u001b[0;34m\"col\"\u001b[0m\u001b[0;34m}\u001b[0m\u001b[0;34m)\u001b[0m\u001b[0;34m\u001b[0m\u001b[0;34m\u001b[0m\u001b[0m\n\u001b[0m\u001b[1;32m      2\u001b[0m \u001b[0mrang\u001b[0m\u001b[0;34m\u001b[0m\u001b[0;34m\u001b[0m\u001b[0m\n",
      "\u001b[0;32m~/opt/anaconda3/lib/python3.7/site-packages/bs4/element.py\u001b[0m in \u001b[0;36m__getattr__\u001b[0;34m(self, key)\u001b[0m\n\u001b[1;32m   2079\u001b[0m         \u001b[0;34m\"\"\"Raise a helpful exception to explain a common code fix.\"\"\"\u001b[0m\u001b[0;34m\u001b[0m\u001b[0;34m\u001b[0m\u001b[0m\n\u001b[1;32m   2080\u001b[0m         raise AttributeError(\n\u001b[0;32m-> 2081\u001b[0;31m             \u001b[0;34m\"ResultSet object has no attribute '%s'. You're probably treating a list of elements like a single element. Did you call find_all() when you meant to call find()?\"\u001b[0m \u001b[0;34m%\u001b[0m \u001b[0mkey\u001b[0m\u001b[0;34m\u001b[0m\u001b[0;34m\u001b[0m\u001b[0m\n\u001b[0m\u001b[1;32m   2082\u001b[0m         )\n",
      "\u001b[0;31mAttributeError\u001b[0m: ResultSet object has no attribute 'find'. You're probably treating a list of elements like a single element. Did you call find_all() when you meant to call find()?"
     ]
    }
   ],
   "source": [
    "rang=results.find('th',attrs={\"scope\":\"col\"})\n",
    "rang"
   ]
  },
  {
   "cell_type": "markdown",
   "metadata": {},
   "source": [
    "Il y a 9 colonnes dans le tableau avec les informations suivantes : Rang, Nom, Siege social, chiffre d'affaires en millions, Bénéfice en millions, Nbres d'employés, Branche, Dirigeant, Classement mondial. Ce sont toutes des données intéressantes qu'on va sauvegarder.\n",
    "\n",
    "Cette structure se répète pour toutes les lignes de la page web (ce qui n’est pas toujours le cas pour tous les sites web !), et pour cela, on va donc à nouveau utiliser la méthode find-all pour affecter chaque colonne à une variable que nous pouvons écrire dans un csv ou JSON en cherchant l’élément < td>."
   ]
  },
  {
   "cell_type": "code",
   "execution_count": 39,
   "metadata": {},
   "outputs": [
    {
     "ename": "AttributeError",
     "evalue": "ResultSet object has no attribute 'find_all'. You're probably treating a list of elements like a single element. Did you call find_all() when you meant to call find()?",
     "output_type": "error",
     "traceback": [
      "\u001b[0;31m---------------------------------------------------------------------------\u001b[0m",
      "\u001b[0;31mAttributeError\u001b[0m                            Traceback (most recent call last)",
      "\u001b[0;32m<ipython-input-39-ba1e23b6767d>\u001b[0m in \u001b[0;36m<module>\u001b[0;34m\u001b[0m\n\u001b[0;32m----> 1\u001b[0;31m \u001b[0mhead\u001b[0m \u001b[0;34m=\u001b[0m \u001b[0mtable\u001b[0m\u001b[0;34m.\u001b[0m\u001b[0mfind_all\u001b[0m\u001b[0;34m(\u001b[0m\u001b[0;34m'thead'\u001b[0m\u001b[0;34m)\u001b[0m\u001b[0;34m\u001b[0m\u001b[0;34m\u001b[0m\u001b[0m\n\u001b[0m\u001b[1;32m      2\u001b[0m \u001b[0mhead\u001b[0m\u001b[0;34m\u001b[0m\u001b[0;34m\u001b[0m\u001b[0m\n",
      "\u001b[0;32m~/opt/anaconda3/lib/python3.7/site-packages/bs4/element.py\u001b[0m in \u001b[0;36m__getattr__\u001b[0;34m(self, key)\u001b[0m\n\u001b[1;32m   2079\u001b[0m         \u001b[0;34m\"\"\"Raise a helpful exception to explain a common code fix.\"\"\"\u001b[0m\u001b[0;34m\u001b[0m\u001b[0;34m\u001b[0m\u001b[0m\n\u001b[1;32m   2080\u001b[0m         raise AttributeError(\n\u001b[0;32m-> 2081\u001b[0;31m             \u001b[0;34m\"ResultSet object has no attribute '%s'. You're probably treating a list of elements like a single element. Did you call find_all() when you meant to call find()?\"\u001b[0m \u001b[0;34m%\u001b[0m \u001b[0mkey\u001b[0m\u001b[0;34m\u001b[0m\u001b[0;34m\u001b[0m\u001b[0m\n\u001b[0m\u001b[1;32m   2082\u001b[0m         )\n",
      "\u001b[0;31mAttributeError\u001b[0m: ResultSet object has no attribute 'find_all'. You're probably treating a list of elements like a single element. Did you call find_all() when you meant to call find()?"
     ]
    }
   ],
   "source": [
    "\n",
    "head = table.find_all('thead')\n",
    "head"
   ]
  },
  {
   "cell_type": "code",
   "execution_count": null,
   "metadata": {},
   "outputs": [],
   "source": []
  }
 ],
 "metadata": {
  "hide_input": false,
  "kernelspec": {
   "display_name": "Python 3",
   "language": "python",
   "name": "python3"
  },
  "language_info": {
   "codemirror_mode": {
    "name": "ipython",
    "version": 3
   },
   "file_extension": ".py",
   "mimetype": "text/x-python",
   "name": "python",
   "nbconvert_exporter": "python",
   "pygments_lexer": "ipython3",
   "version": "3.7.6"
  }
 },
 "nbformat": 4,
 "nbformat_minor": 4
}
